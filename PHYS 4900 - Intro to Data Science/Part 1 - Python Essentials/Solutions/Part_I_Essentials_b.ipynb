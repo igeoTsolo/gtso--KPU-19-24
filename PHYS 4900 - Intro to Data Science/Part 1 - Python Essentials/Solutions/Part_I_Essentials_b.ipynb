{
 "cells": [
  {
   "cell_type": "markdown",
   "id": "38f136ac",
   "metadata": {},
   "source": [
    "# $\\LARGE Python - List\\ and \\ Essentials$\n",
    "# Part b"
   ]
  },
  {
   "cell_type": "markdown",
   "id": "b5ee0130",
   "metadata": {},
   "source": [
    "# Act 1\n",
    "### 1.1 - Practice writing a code\n",
    " - Ask the user to guess a number between 1-6.\n",
    " - Then randomly generate a number between 1-6. In order to do so, you need to type in \"from random import randint\". Then, randint(1,7) will give you a number between 1-6.\n",
    " - Now, if the guessed number by the user matches the randomly generated number by the computer print: \"It is your lucky day!\"\n",
    " - if not, print\" \"Unlucky!\""
   ]
  },
  {
   "cell_type": "code",
   "execution_count": 1,
   "id": "ed9f0aed",
   "metadata": {},
   "outputs": [],
   "source": [
    "#Leave as it is\n",
    "from random import randint"
   ]
  },
  {
   "cell_type": "code",
   "execution_count": 2,
   "id": "907a616c",
   "metadata": {},
   "outputs": [
    {
     "name": "stdout",
     "output_type": "stream",
     "text": [
      "Choose a number between 1-6: \n",
      "3\n",
      " you chose 3 and the lucky number is 1.\n",
      "Unlucky!\n"
     ]
    }
   ],
   "source": [
    "guess = input(\"Choose a number between 1-6: \\n\")\n",
    "guess = int(guess)\n",
    "rand = randint(1,6)\n",
    "\n",
    "print(f\" you chose {guess} and the lucky number is {rand}.\")\n",
    "\n",
    "if guess == rand:\n",
    "    print(\"It is your lucky day!\")\n",
    "elif (guess != rand)  and (guess<=6) and (guess>=1):\n",
    "    print(\"Unlucky!\")\n",
    "else:\n",
    "    print(\"Wrong input. Input is an integer between 1-10\")"
   ]
  },
  {
   "cell_type": "markdown",
   "id": "311f2473",
   "metadata": {},
   "source": [
    "#### Possible things that might go wrong:\n",
    "- did you notice that input is an string? You need to change it to an integer\n",
    "- print out your input and randomly generated number. It helps to see if your code works properly.\n",
    "- What if the user provides a number out of the range? Does your code have a system to tell the user that this is out of the range?\n",
    "- What if the user provides alphabet?\n",
    "### 1.2 - Bonus\n",
    "**Bonus:** Write a code that takes care of all the possible error above and sent it to me."
   ]
  },
  {
   "cell_type": "code",
   "execution_count": 3,
   "id": "b84c35ec",
   "metadata": {},
   "outputs": [
    {
     "name": "stdout",
     "output_type": "stream",
     "text": [
      "Choose a number between 1-6: \n",
      "2\n",
      " you chose 2 and the lucky number is 2.\n",
      "It is your lucky day!\n"
     ]
    }
   ],
   "source": [
    "# ANSWER to the BONUS QUESTION\n",
    "\n",
    "from random import randint\n",
    "\n",
    "guess = input(\"Choose a number between 1-6: \\n\")\n",
    "rand = randint(1,6)\n",
    "\n",
    "if guess and (not guess.isalpha()):\n",
    "# if guess checks if guess actually exists. This is important since the user might hit the enter and does not even bother addin any input!\n",
    "# if (not guess.isalpha()) checks if there is alphabeter in it!\n",
    "    guess=int(guess)\n",
    "    print(f\" you chose {guess} and the lucky number is {rand}.\")\n",
    "    if guess == rand:\n",
    "        print(\"It is your lucky day!\")\n",
    "    elif (guess != rand)  and (guess<=6) and (guess>=1):\n",
    "        print(\"Unlucky!\")\n",
    "    else:\n",
    "        print(\"Wrong input. Input is an integer between 1-10\")\n",
    "else:\n",
    "    print('The input must be an integer!')"
   ]
  },
  {
   "cell_type": "markdown",
   "id": "3d4e97e6",
   "metadata": {},
   "source": [
    "# Act 2 - Quick practice\n",
    "### Now, let's get some practice with the Comparison Operators, & Logical Operators!\n",
    "\n",
    "run the followings and see the result for yourselves"
   ]
  },
  {
   "cell_type": "code",
   "execution_count": 4,
   "id": "1a13dda1",
   "metadata": {},
   "outputs": [
    {
     "name": "stdout",
     "output_type": "stream",
     "text": [
      "False\n"
     ]
    }
   ],
   "source": [
    "# Leave as it is\n",
    "print('a' > 'b')"
   ]
  },
  {
   "cell_type": "markdown",
   "id": "3d05ecb7",
   "metadata": {},
   "source": [
    "### Note that we are setting a = 1 and b = 0.5"
   ]
  },
  {
   "cell_type": "code",
   "execution_count": 5,
   "id": "0ec87ff7",
   "metadata": {},
   "outputs": [
    {
     "name": "stdout",
     "output_type": "stream",
     "text": [
      "True\n"
     ]
    }
   ],
   "source": [
    "# Leave as it is\n",
    "a=1\n",
    "b=0.5\n",
    "print(a > b)"
   ]
  },
  {
   "cell_type": "code",
   "execution_count": 6,
   "id": "9aeba4cb",
   "metadata": {},
   "outputs": [
    {
     "data": {
      "text/plain": [
       "True"
      ]
     },
     "execution_count": 6,
     "metadata": {},
     "output_type": "execute_result"
    }
   ],
   "source": [
    "# Leave as it is\n",
    "(a != b)"
   ]
  },
  {
   "cell_type": "code",
   "execution_count": 7,
   "id": "bad41f2c",
   "metadata": {},
   "outputs": [
    {
     "data": {
      "text/plain": [
       "False"
      ]
     },
     "execution_count": 7,
     "metadata": {},
     "output_type": "execute_result"
    }
   ],
   "source": [
    "# Leave as it is\n",
    "not(a != b)"
   ]
  },
  {
   "cell_type": "code",
   "execution_count": 8,
   "id": "c9d1ac5c",
   "metadata": {},
   "outputs": [
    {
     "data": {
      "text/plain": [
       "False"
      ]
     },
     "execution_count": 8,
     "metadata": {},
     "output_type": "execute_result"
    }
   ],
   "source": [
    "# Leave as it is\n",
    "(a > b) and ('a' > 'b')"
   ]
  },
  {
   "cell_type": "code",
   "execution_count": 9,
   "id": "8c190e2d",
   "metadata": {},
   "outputs": [
    {
     "data": {
      "text/plain": [
       "True"
      ]
     },
     "execution_count": 9,
     "metadata": {},
     "output_type": "execute_result"
    }
   ],
   "source": [
    "# Leave as it is\n",
    "(a > b) or ('a' > 'b')"
   ]
  },
  {
   "cell_type": "markdown",
   "id": "85d1d964",
   "metadata": {},
   "source": [
    "#### DO you get the logic behind any of the above?\n",
    "\n",
    "### 2.1 - Classic adding all odd numbers!\n",
    "Add all odd numbers from 10-21. It should include 21!"
   ]
  },
  {
   "cell_type": "code",
   "execution_count": 10,
   "id": "cd92212c",
   "metadata": {},
   "outputs": [
    {
     "name": "stdout",
     "output_type": "stream",
     "text": [
      "96\n"
     ]
    }
   ],
   "source": [
    "x=0\n",
    "for i in range(10, 22):\n",
    "    if i%2==1:\n",
    "        x+=i\n",
    "print(x)\n",
    "\n",
    "# NOTE: Later we learn list. This can also work:\n",
    "# sum([i for i in range(11,22,2)])"
   ]
  },
  {
   "cell_type": "markdown",
   "id": "a5acce8f",
   "metadata": {},
   "source": [
    "### Relax a bit and enjoy the following line!"
   ]
  },
  {
   "cell_type": "code",
   "execution_count": 11,
   "id": "0fe51e7b",
   "metadata": {},
   "outputs": [
    {
     "name": "stdout",
     "output_type": "stream",
     "text": [
      "          \n",
      "         😆\n",
      "        😆😆\n",
      "       😆😆😆\n",
      "      😆😆😆😆\n",
      "     😆😆😆😆😆\n",
      "    😆😆😆😆😆😆\n",
      "   😆😆😆😆😆😆😆\n",
      "  😆😆😆😆😆😆😆😆\n",
      " 😆😆😆😆😆😆😆😆😆\n"
     ]
    }
   ],
   "source": [
    "#Leave as it is\n",
    "for i in range(10):\n",
    "    print(' '*(10-i)+'\\U0001F606'*i)"
   ]
  },
  {
   "cell_type": "markdown",
   "id": "0813ceed",
   "metadata": {},
   "source": [
    "### Act 3 - While Loop\n",
    "Go back to the first cell (Act 1)! Now, create a code that to randmly generate a number between 1-10 till it is equal  to the input number.\n",
    "- Note ask user to provide an input number between 1-10\n",
    "- Tell user how many times you randomly generated the number till it will be lucky day for them!"
   ]
  },
  {
   "cell_type": "code",
   "execution_count": 2,
   "id": "78d5406b",
   "metadata": {},
   "outputs": [
    {
     "name": "stdout",
     "output_type": "stream",
     "text": [
      "Guess an integer between 1-10, then we tell you if it is a lucky day for you!5\n",
      "We run the code for 1 time(s) till it will be your lucky day! Go ahead an enjoy your day!\n"
     ]
    }
   ],
   "source": [
    "from random import randint\n",
    "# Note since this is already imported above you no longer need to import this! As long as the cell above is run before this\n",
    "\n",
    "guess= int(input('Guess an integer between 1-10, then we tell you if it is a lucky day for you!'))\n",
    "\n",
    "rand, i=0, 0\n",
    "\n",
    "while rand!=guess:\n",
    "    rand = randint(1,10)\n",
    "    i +=1\n",
    "print(f'We run the code for {i} time(s) till it will be your lucky day! Go ahead an enjoy your day!')    \n"
   ]
  },
  {
   "cell_type": "markdown",
   "id": "26f7038d",
   "metadata": {},
   "source": [
    "# Act 4 - List\n",
    "\n",
    "Run the following line "
   ]
  },
  {
   "cell_type": "code",
   "execution_count": 34,
   "id": "9d8f73a0",
   "metadata": {},
   "outputs": [],
   "source": [
    "#Leave as it is\n",
    "lst = [i**2 for i in range(25)]"
   ]
  },
  {
   "cell_type": "markdown",
   "id": "6f70f4d3",
   "metadata": {},
   "source": [
    "### 4.1 - Do the following tasks\n",
    "- print out the lst\n",
    "- print out the first item of the lst **Note: python starts from 0**\n",
    "- print out the last item of the lst\n",
    "- print out the lst from the first item till item 10\n",
    "- print out the  lst from item 6-20\n",
    "- print out every other item in the  lst from item 6-20 (steps of two)\n",
    "- print out the last 7 items of the lst\n",
    "- print the lst backward"
   ]
  },
  {
   "cell_type": "code",
   "execution_count": 35,
   "id": "7828375a",
   "metadata": {},
   "outputs": [
    {
     "name": "stdout",
     "output_type": "stream",
     "text": [
      "[0, 1, 4, 9, 16, 25, 36, 49, 64, 81, 100, 121, 144, 169, 196, 225, 256, 289, 324, 361, 400, 441, 484, 529, 576]\n",
      "0\n",
      "576\n",
      "[0, 1, 4, 9, 16, 25, 36, 49, 64, 81]\n",
      "[36, 49, 64, 81, 100, 121, 144, 169, 196, 225, 256, 289, 324, 361]\n",
      "[36, 64, 100, 144, 196, 256, 324]\n",
      "[324, 361, 400, 441, 484, 529, 576]\n",
      "[576, 529, 484, 441, 400, 361, 324, 289, 256, 225, 196, 169, 144, 121, 100, 81, 64, 49, 36, 25, 16, 9, 4, 1, 0]\n"
     ]
    }
   ],
   "source": [
    "print(lst)\n",
    "print(lst[0])\n",
    "print(lst[-1])\n",
    "print(lst[:10])\n",
    "print(lst[6:20])\n",
    "print(lst[6:20:2])\n",
    "print(lst[-7:])\n",
    "print(lst[::-1])"
   ]
  },
  {
   "cell_type": "markdown",
   "id": "79a6a871",
   "metadata": {},
   "source": [
    "### 4.2 - Now check if 25, and 35 exist in the lst!"
   ]
  },
  {
   "cell_type": "code",
   "execution_count": 36,
   "id": "c353f5cc",
   "metadata": {},
   "outputs": [
    {
     "name": "stdout",
     "output_type": "stream",
     "text": [
      "True\n",
      "False\n"
     ]
    },
    {
     "data": {
      "text/plain": [
       "[True, False]"
      ]
     },
     "execution_count": 36,
     "metadata": {},
     "output_type": "execute_result"
    }
   ],
   "source": [
    "print(25 in lst)\n",
    "print(35 in lst)\n",
    "\n",
    "[i in lst for i in [25,35]]"
   ]
  },
  {
   "cell_type": "markdown",
   "id": "9c6ed357",
   "metadata": {},
   "source": [
    "### 4.3 - Conver lst to one string\n",
    "use for loop to combine all the numbers in the list into one long string (i.e. 01491625....)\n",
    "Note: you may want to convert numbers into string\n",
    "\n",
    "**Check the solution.**"
   ]
  },
  {
   "cell_type": "code",
   "execution_count": 37,
   "id": "9039e643",
   "metadata": {},
   "outputs": [
    {
     "name": "stdout",
     "output_type": "stream",
     "text": [
      "0149162536496481100121144169196225256289324361400441484529576\n"
     ]
    }
   ],
   "source": [
    "long_string=''\n",
    "for i in lst:\n",
    "    long_string=long_string+str(i)\n",
    "print(long_string)    \n",
    "\n",
    "\n",
    "\n",
    "#or\n",
    "#### ''.join([str(i) for i in lst])"
   ]
  },
  {
   "cell_type": "markdown",
   "id": "d721f9d2",
   "metadata": {},
   "source": [
    "### 4.4 - Now remove the first item from the list "
   ]
  },
  {
   "cell_type": "code",
   "execution_count": 38,
   "id": "1c283370",
   "metadata": {},
   "outputs": [
    {
     "data": {
      "text/plain": [
       "[1,\n",
       " 4,\n",
       " 9,\n",
       " 16,\n",
       " 25,\n",
       " 36,\n",
       " 49,\n",
       " 64,\n",
       " 81,\n",
       " 100,\n",
       " 121,\n",
       " 144,\n",
       " 169,\n",
       " 196,\n",
       " 225,\n",
       " 256,\n",
       " 289,\n",
       " 324,\n",
       " 361,\n",
       " 400,\n",
       " 441,\n",
       " 484,\n",
       " 529,\n",
       " 576]"
      ]
     },
     "execution_count": 38,
     "metadata": {},
     "output_type": "execute_result"
    }
   ],
   "source": [
    "lst.pop(0)\n",
    "lst"
   ]
  },
  {
   "cell_type": "markdown",
   "id": "5152e353",
   "metadata": {},
   "source": [
    "### 4.5 - Now remove the item equal to 441!  \n",
    "\n",
    "**NOTE: in case of multiple 441 it will only removes the first one**"
   ]
  },
  {
   "cell_type": "code",
   "execution_count": 39,
   "id": "bb802c46",
   "metadata": {},
   "outputs": [
    {
     "data": {
      "text/plain": [
       "[1,\n",
       " 4,\n",
       " 9,\n",
       " 16,\n",
       " 25,\n",
       " 36,\n",
       " 49,\n",
       " 64,\n",
       " 81,\n",
       " 100,\n",
       " 121,\n",
       " 144,\n",
       " 169,\n",
       " 196,\n",
       " 225,\n",
       " 256,\n",
       " 289,\n",
       " 324,\n",
       " 361,\n",
       " 400,\n",
       " 484,\n",
       " 529,\n",
       " 576]"
      ]
     },
     "execution_count": 39,
     "metadata": {},
     "output_type": "execute_result"
    }
   ],
   "source": [
    "lst.remove(441)\n",
    "lst"
   ]
  },
  {
   "cell_type": "markdown",
   "id": "17b76b7c",
   "metadata": {},
   "source": [
    "### 4.6 - Clear out the list!"
   ]
  },
  {
   "cell_type": "code",
   "execution_count": 40,
   "id": "a10626df",
   "metadata": {},
   "outputs": [
    {
     "data": {
      "text/plain": [
       "[]"
      ]
     },
     "execution_count": 40,
     "metadata": {},
     "output_type": "execute_result"
    }
   ],
   "source": [
    "lst.clear()\n",
    "lst"
   ]
  },
  {
   "cell_type": "markdown",
   "id": "9b0ee9d3",
   "metadata": {},
   "source": [
    "# Act 5 - List Comprehension\n",
    "\n",
    "### 5.1 - Do the followings - Use list comprehension for all!\n",
    "- create a list of cubic numbers for 0-20 call it 'cubic'. Print it out!\n",
    "- convert every item of it into a string call this new list 'cubic_string'. Print it out!\n",
    "- Now, invert every string ellement of cubic_string. For instance, '729' should be changed\n",
    "to '927'. Call this 'cubic_string_invert'. Print it out!"
   ]
  },
  {
   "cell_type": "code",
   "execution_count": 42,
   "id": "3a084a6e",
   "metadata": {},
   "outputs": [
    {
     "name": "stdout",
     "output_type": "stream",
     "text": [
      "[0, 1, 8, 27, 64, 125, 216, 343, 512, 729, 1000, 1331, 1728, 2197, 2744, 3375, 4096, 4913, 5832, 6859]\n",
      "['0', '1', '8', '27', '64', '125', '216', '343', '512', '729', '1000', '1331', '1728', '2197', '2744', '3375', '4096', '4913', '5832', '6859']\n"
     ]
    }
   ],
   "source": [
    "cubic = [i**3 for i in range(20)]\n",
    "print(cubic)\n",
    "cubic_string = [str(i) for i in cubic]\n",
    "print(cubic_string)"
   ]
  },
  {
   "cell_type": "code",
   "execution_count": 43,
   "id": "567e4e31",
   "metadata": {},
   "outputs": [
    {
     "name": "stdout",
     "output_type": "stream",
     "text": [
      "['0', '1', '8', '72', '46', '521', '612', '343', '215', '927', '0001', '1331', '8271', '7912', '4472', '5733', '6904', '3194', '2385', '9586']\n"
     ]
    }
   ],
   "source": [
    "cubic_string_invert=[i[::-1] for i in cubic_string]\n",
    "print(cubic_string_invert)"
   ]
  },
  {
   "cell_type": "markdown",
   "id": "b39fe3f3",
   "metadata": {},
   "source": [
    "### 5.2 - Now create a list of numbers from 100-200. Then:\n",
    "- From this list creat a list if they are divisible by 3\n",
    "- From this list if they are evenn multiply them by 2 else multiply them by 3"
   ]
  },
  {
   "cell_type": "code",
   "execution_count": 44,
   "id": "12685bc2",
   "metadata": {},
   "outputs": [
    {
     "name": "stdout",
     "output_type": "stream",
     "text": [
      "All the numbers  are:  [100, 101, 102, 103, 104, 105, 106, 107, 108, 109, 110, 111, 112, 113, 114, 115, 116, 117, 118, 119, 120, 121, 122, 123, 124, 125, 126, 127, 128, 129, 130, 131, 132, 133, 134, 135, 136, 137, 138, 139, 140, 141, 142, 143, 144, 145, 146, 147, 148, 149, 150, 151, 152, 153, 154, 155, 156, 157, 158, 159, 160, 161, 162, 163, 164, 165, 166, 167, 168, 169, 170, 171, 172, 173, 174, 175, 176, 177, 178, 179, 180, 181, 182, 183, 184, 185, 186, 187, 188, 189, 190, 191, 192, 193, 194, 195, 196, 197, 198, 199] \n",
      "\n",
      "list of numbers in lst dividable by three:  [102, 105, 108, 111, 114, 117, 120, 123, 126, 129, 132, 135, 138, 141, 144, 147, 150, 153, 156, 159, 162, 165, 168, 171, 174, 177, 180, 183, 186, 189, 192, 195, 198]\n",
      "[200, 303, 204, 309, 208, 315, 212, 321, 216, 327, 220, 333, 224, 339, 228, 345, 232, 351, 236, 357, 240, 363, 244, 369, 248, 375, 252, 381, 256, 387, 260, 393, 264, 399, 268, 405, 272, 411, 276, 417, 280, 423, 284, 429, 288, 435, 292, 441, 296, 447, 300, 453, 304, 459, 308, 465, 312, 471, 316, 477, 320, 483, 324, 489, 328, 495, 332, 501, 336, 507, 340, 513, 344, 519, 348, 525, 352, 531, 356, 537, 360, 543, 364, 549, 368, 555, 372, 561, 376, 567, 380, 573, 384, 579, 388, 585, 392, 591, 396, 597]\n"
     ]
    }
   ],
   "source": [
    "lst=[i for i in range(100,200)]\n",
    "print('All the numbers  are: ',lst, '\\n')\n",
    "dividable_by_three = [i for i in lst if i%3==0]\n",
    "print('list of numbers in lst dividable by three: ',dividable_by_three)\n",
    "\n",
    "print([i*2 if i%2==0 else i*3 for i in lst])"
   ]
  },
  {
   "cell_type": "markdown",
   "id": "9dc7695f",
   "metadata": {},
   "source": [
    "# Act 6 - Nested List\n",
    "Using a nested list comprehension and range(), create a variable called answer  with the following value - [[0, 1, 2], [0, 1, 2], [0, 1, 2]]"
   ]
  },
  {
   "cell_type": "code",
   "execution_count": 46,
   "id": "a7d895bf",
   "metadata": {},
   "outputs": [
    {
     "data": {
      "text/plain": [
       "[[0, 1, 2], [0, 1, 2], [0, 1, 2]]"
      ]
     },
     "execution_count": 46,
     "metadata": {},
     "output_type": "execute_result"
    }
   ],
   "source": [
    "[[i for i in range(3)] for i in range(3)]"
   ]
  },
  {
   "attachments": {
    "image.png": {
     "image/png": "[encoded data removed]"
    }
   },
   "cell_type": "markdown",
   "id": "7d10e039",
   "metadata": {},
   "source": [
    "![image.png](attachment:image.png)"
   ]
  },
  {
   "cell_type": "markdown",
   "id": "ae55f56b",
   "metadata": {},
   "source": [
    "### 6.2\n",
    "Grab 'hello' from the nested list below"
   ]
  },
  {
   "cell_type": "code",
   "execution_count": 51,
   "id": "ba5e5e84",
   "metadata": {},
   "outputs": [],
   "source": [
    "#Leave as it is\n",
    "lst = [1,2,[3,4],[5,6,7,8,[9,10,['hello']],11,12],13,14,15]"
   ]
  },
  {
   "cell_type": "code",
   "execution_count": 52,
   "id": "47e5baf8",
   "metadata": {},
   "outputs": [
    {
     "data": {
      "text/plain": [
       "'hello'"
      ]
     },
     "execution_count": 52,
     "metadata": {},
     "output_type": "execute_result"
    }
   ],
   "source": [
    "lst[3][4][2][0]"
   ]
  },
  {
   "attachments": {
    "image.png": {
     "image/png": "[encoded data removed]"
    }
   },
   "cell_type": "markdown",
   "id": "d7767d2c",
   "metadata": {},
   "source": [
    "![image.png](attachment:image.png)"
   ]
  },
  {
   "cell_type": "code",
   "execution_count": 3,
   "id": "036691f1",
   "metadata": {},
   "outputs": [
    {
     "data": {
      "text/plain": [
       "[0, 1, 2, 3, 4, 5]"
      ]
     },
     "execution_count": 3,
     "metadata": {},
     "output_type": "execute_result"
    }
   ],
   "source": [
    "list(range(6))"
   ]
  },
  {
   "cell_type": "code",
   "execution_count": null,
   "id": "e61fc60e",
   "metadata": {},
   "outputs": [],
   "source": []
  }
 ],
 "metadata": {
  "kernelspec": {
   "display_name": "Python 3 (ipykernel)",
   "language": "python",
   "name": "python3"
  },
  "language_info": {
   "codemirror_mode": {
    "name": "ipython",
    "version": 3
   },
   "file_extension": ".py",
   "mimetype": "text/x-python",
   "name": "python",
   "nbconvert_exporter": "python",
   "pygments_lexer": "ipython3",
   "version": "3.9.13"
  }
 },
 "nbformat": 4,
 "nbformat_minor": 5
}
