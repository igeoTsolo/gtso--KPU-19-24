{
 "cells": [
  {
   "cell_type": "code",
   "execution_count": 18,
   "id": "3a2e3efa",
   "metadata": {},
   "outputs": [
    {
     "name": "stdout",
     "output_type": "stream",
     "text": [
      "[1, 2, 3, 4, 5, 6]\n"
     ]
    }
   ],
   "source": [
    "lst = [num for num in range(1, 7)]\n",
    "print(lst)"
   ]
  },
  {
   "cell_type": "code",
   "execution_count": 20,
   "id": "8a6ed362",
   "metadata": {},
   "outputs": [
    {
     "data": {
      "text/plain": [
       "[2, 4, 6]"
      ]
     },
     "execution_count": 20,
     "metadata": {},
     "output_type": "execute_result"
    }
   ],
   "source": [
    "even = [num for num in lst if num%2==0]\n",
    "even"
   ]
  },
  {
   "cell_type": "code",
   "execution_count": 22,
   "id": "80c8869c",
   "metadata": {},
   "outputs": [
    {
     "data": {
      "text/plain": [
       "[1, 1.0, 3, 2.0, 5, 3.0]"
      ]
     },
     "execution_count": 22,
     "metadata": {},
     "output_type": "execute_result"
    }
   ],
   "source": [
    "odd = [num if num%2==1 else num/2 for num in lst]\n",
    "odd"
   ]
  },
  {
   "cell_type": "code",
   "execution_count": 23,
   "id": "4a7a77b7",
   "metadata": {},
   "outputs": [
    {
     "data": {
      "text/plain": [
       "[2, 3, 4, 5, 6, 7, 8, 9, 10, 11, 12, 13, 14, 15, 16, 17, 18, 19, 20]"
      ]
     },
     "execution_count": 23,
     "metadata": {},
     "output_type": "execute_result"
    }
   ],
   "source": [
    "list = [num for num in range (2, 21)]\n",
    "list"
   ]
  },
  {
   "cell_type": "code",
   "execution_count": 24,
   "id": "be589e0e",
   "metadata": {},
   "outputs": [
    {
     "data": {
      "text/plain": [
       "[6, 10, 14, 18, 22, 26, 30, 34, 38]"
      ]
     },
     "execution_count": 24,
     "metadata": {},
     "output_type": "execute_result"
    }
   ],
   "source": [
    "odd = [num*2 for num in list if num%2==1]\n",
    "odd"
   ]
  },
  {
   "cell_type": "code",
   "execution_count": 27,
   "id": "6bf79774",
   "metadata": {},
   "outputs": [
    {
     "name": "stdout",
     "output_type": "stream",
     "text": [
      "[1.0, 18, 2.0, 2.5, 36, 3.5, 4.0, 54, 5.0, 5.5, 72, 6.5, 7.0, 90, 8.0, 8.5, 108, 9.5, 10.0]\n"
     ]
    }
   ],
   "source": [
    "multithree = [num*6 if num%3==0 else num/2 for num in list]\n",
    "print(multithree)"
   ]
  },
  {
   "cell_type": "markdown",
   "id": "5f15f7ff",
   "metadata": {},
   "source": [
    "# Functions"
   ]
  },
  {
   "cell_type": "code",
   "execution_count": 33,
   "id": "ae19ffe1",
   "metadata": {},
   "outputs": [],
   "source": [
    "def Gravity(mass1, mass2, distance):\n",
    "    '''masses are in kg, distance is in meters'''\n",
    "    GConst = 6.6743e-11 #gravitational constant\n",
    "    Force = abs(GConst*mass1*mass2/(distance**2)) #force in Newtons\n",
    "    return Force"
   ]
  },
  {
   "cell_type": "code",
   "execution_count": 32,
   "id": "f12040f2",
   "metadata": {},
   "outputs": [
    {
     "data": {
      "text/plain": [
       "6.6743e-11"
      ]
     },
     "execution_count": 32,
     "metadata": {},
     "output_type": "execute_result"
    }
   ],
   "source": [
    "Gravity(1,1,1)"
   ]
  },
  {
   "cell_type": "code",
   "execution_count": 34,
   "id": "9ece057b",
   "metadata": {},
   "outputs": [],
   "source": [
    "lst = [50, 62, 74, 80, 85, 100]"
   ]
  },
  {
   "cell_type": "code",
   "execution_count": 40,
   "id": "dabefd75",
   "metadata": {},
   "outputs": [],
   "source": [
    "def findmean(*args):\n",
    "    addition = 0\n",
    "    for num in args:\n",
    "        addition += num\n",
    "    return addition/len(args)"
   ]
  },
  {
   "cell_type": "code",
   "execution_count": 43,
   "id": "f06fee83",
   "metadata": {},
   "outputs": [
    {
     "data": {
      "text/plain": [
       "75.16666666666667"
      ]
     },
     "execution_count": 43,
     "metadata": {},
     "output_type": "execute_result"
    }
   ],
   "source": [
    "findmean(*lst)"
   ]
  },
  {
   "cell_type": "code",
   "execution_count": 1,
   "id": "aee6e93f",
   "metadata": {},
   "outputs": [
    {
     "data": {
      "text/plain": [
       "<map at 0x1d7b4a8fb50>"
      ]
     },
     "execution_count": 1,
     "metadata": {},
     "output_type": "execute_result"
    }
   ],
   "source": [
    "lst = [2, 5, 8, 9]\n",
    "double = lambda n: n*2\n",
    "map(double, lst)"
   ]
  },
  {
   "cell_type": "code",
   "execution_count": 2,
   "id": "6235bcbb",
   "metadata": {},
   "outputs": [
    {
     "data": {
      "text/plain": [
       "[4, 10, 16, 18]"
      ]
     },
     "execution_count": 2,
     "metadata": {},
     "output_type": "execute_result"
    }
   ],
   "source": [
    "list(map(double, lst))"
   ]
  },
  {
   "cell_type": "code",
   "execution_count": null,
   "id": "d6c86796",
   "metadata": {},
   "outputs": [],
   "source": []
  }
 ],
 "metadata": {
  "kernelspec": {
   "display_name": "Python 3 (ipykernel)",
   "language": "python",
   "name": "python3"
  },
  "language_info": {
   "codemirror_mode": {
    "name": "ipython",
    "version": 3
   },
   "file_extension": ".py",
   "mimetype": "text/x-python",
   "name": "python",
   "nbconvert_exporter": "python",
   "pygments_lexer": "ipython3",
   "version": "3.9.13"
  }
 },
 "nbformat": 4,
 "nbformat_minor": 5
}
