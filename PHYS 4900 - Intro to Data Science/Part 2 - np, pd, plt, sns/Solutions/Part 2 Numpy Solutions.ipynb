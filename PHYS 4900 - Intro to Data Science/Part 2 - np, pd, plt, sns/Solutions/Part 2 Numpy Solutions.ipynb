{
 "cells": [
  {
   "cell_type": "markdown",
   "id": "4db4e716",
   "metadata": {},
   "source": [
    "# $\\LARGE Numpy$\n",
    "\n",
    "# Act 1 - Start with Numpy\n",
    "#### Import numpy below and call it np"
   ]
  },
  {
   "cell_type": "code",
   "execution_count": 25,
   "id": "65573f01",
   "metadata": {},
   "outputs": [],
   "source": [
    "import numpy as np"
   ]
  },
  {
   "cell_type": "markdown",
   "id": "afd822f2",
   "metadata": {},
   "source": [
    "### 1.1 - Perform the following tasks\n",
    "Covert the list below to a numpy array and call it 'arr'"
   ]
  },
  {
   "cell_type": "code",
   "execution_count": 26,
   "id": "47461b35",
   "metadata": {},
   "outputs": [],
   "source": [
    "#Leave as it is\n",
    "lst = [1,2,3, 'myself']"
   ]
  },
  {
   "cell_type": "code",
   "execution_count": 27,
   "id": "549a60e7",
   "metadata": {},
   "outputs": [
    {
     "data": {
      "text/plain": [
       "array(['1', '2', '3', 'myself'], dtype='<U11')"
      ]
     },
     "execution_count": 27,
     "metadata": {},
     "output_type": "execute_result"
    }
   ],
   "source": [
    "arr = np.array(lst)\n",
    "arr"
   ]
  },
  {
   "cell_type": "markdown",
   "id": "a57b032c",
   "metadata": {},
   "source": [
    "Create an array of numbers from 2 to 20 with the steps of 3"
   ]
  },
  {
   "cell_type": "code",
   "execution_count": 28,
   "id": "e9112713",
   "metadata": {},
   "outputs": [
    {
     "data": {
      "text/plain": [
       "array([ 2,  5,  8, 11, 14, 17])"
      ]
     },
     "execution_count": 28,
     "metadata": {},
     "output_type": "execute_result"
    }
   ],
   "source": [
    "np.arange(2,20, 3)"
   ]
  },
  {
   "cell_type": "markdown",
   "id": "3bc1d5ea",
   "metadata": {},
   "source": [
    "Create an array of 10 zeros"
   ]
  },
  {
   "cell_type": "code",
   "execution_count": 29,
   "id": "f607ccc0",
   "metadata": {},
   "outputs": [
    {
     "data": {
      "text/plain": [
       "array([0., 0., 0., 0., 0., 0., 0., 0., 0., 0.])"
      ]
     },
     "execution_count": 29,
     "metadata": {},
     "output_type": "execute_result"
    }
   ],
   "source": [
    "np.zeros(10)"
   ]
  },
  {
   "cell_type": "markdown",
   "id": "ed8c3913",
   "metadata": {},
   "source": [
    "Create an array of 10 ones"
   ]
  },
  {
   "cell_type": "code",
   "execution_count": 30,
   "id": "8cca420f",
   "metadata": {},
   "outputs": [
    {
     "data": {
      "text/plain": [
       "array([1., 1., 1., 1., 1., 1., 1., 1., 1., 1.])"
      ]
     },
     "execution_count": 30,
     "metadata": {},
     "output_type": "execute_result"
    }
   ],
   "source": [
    "np.ones(10)"
   ]
  },
  {
   "cell_type": "markdown",
   "id": "c8a2527a",
   "metadata": {},
   "source": [
    "Create an array of 10 eights"
   ]
  },
  {
   "cell_type": "code",
   "execution_count": 31,
   "id": "6c12c281",
   "metadata": {},
   "outputs": [
    {
     "data": {
      "text/plain": [
       "array([8., 8., 8., 8., 8., 8., 8., 8., 8., 8.])"
      ]
     },
     "execution_count": 31,
     "metadata": {},
     "output_type": "execute_result"
    }
   ],
   "source": [
    "np.ones(10)*8"
   ]
  },
  {
   "cell_type": "markdown",
   "id": "4060aa95",
   "metadata": {},
   "source": [
    "### 1.2 - 2D Arrays\n",
    "Create a one dimensional array of all the odd numbers from 1 to 20 and call it 'arr'"
   ]
  },
  {
   "cell_type": "code",
   "execution_count": 32,
   "id": "3e5cff0d",
   "metadata": {},
   "outputs": [
    {
     "data": {
      "text/plain": [
       "array([ 1,  3,  5,  7,  9, 11, 13, 15, 17, 19])"
      ]
     },
     "execution_count": 32,
     "metadata": {},
     "output_type": "execute_result"
    }
   ],
   "source": [
    "arr = np.arange(1,20,2)\n",
    "arr"
   ]
  },
  {
   "cell_type": "markdown",
   "id": "a98cbd6b",
   "metadata": {},
   "source": [
    "Convert this (i.e. arr) to a 2x5 matrix (i.e. 2 rows, 5 columns)"
   ]
  },
  {
   "cell_type": "code",
   "execution_count": 33,
   "id": "71325c6b",
   "metadata": {},
   "outputs": [
    {
     "data": {
      "text/plain": [
       "array([[ 1,  3,  5,  7,  9],\n",
       "       [11, 13, 15, 17, 19]])"
      ]
     },
     "execution_count": 33,
     "metadata": {},
     "output_type": "execute_result"
    }
   ],
   "source": [
    "arr.reshape(2,5)"
   ]
  },
  {
   "cell_type": "markdown",
   "id": "8a5bc94a",
   "metadata": {},
   "source": [
    "Create a 3x3 identity matrix"
   ]
  },
  {
   "cell_type": "code",
   "execution_count": 34,
   "id": "a9202636",
   "metadata": {},
   "outputs": [
    {
     "data": {
      "text/plain": [
       "array([[1., 0., 0.],\n",
       "       [0., 1., 0.],\n",
       "       [0., 0., 1.]])"
      ]
     },
     "execution_count": 34,
     "metadata": {},
     "output_type": "execute_result"
    }
   ],
   "source": [
    "np.eye(3)"
   ]
  },
  {
   "cell_type": "markdown",
   "id": "5bba030e",
   "metadata": {},
   "source": [
    "Grab all the items from arr except the last one"
   ]
  },
  {
   "cell_type": "code",
   "execution_count": 35,
   "id": "d53aee92",
   "metadata": {},
   "outputs": [
    {
     "data": {
      "text/plain": [
       "array([ 1,  3,  5,  7,  9, 11, 13, 15, 17])"
      ]
     },
     "execution_count": 35,
     "metadata": {},
     "output_type": "execute_result"
    }
   ],
   "source": [
    "arr[:-1]"
   ]
  },
  {
   "cell_type": "markdown",
   "id": "fbf8a938",
   "metadata": {},
   "source": [
    "Now creshape this into a 3x3 array and call it 'arr1'"
   ]
  },
  {
   "cell_type": "code",
   "execution_count": 36,
   "id": "f9c83f31",
   "metadata": {},
   "outputs": [
    {
     "data": {
      "text/plain": [
       "array([[ 1,  3,  5],\n",
       "       [ 7,  9, 11],\n",
       "       [13, 15, 17]])"
      ]
     },
     "execution_count": 36,
     "metadata": {},
     "output_type": "execute_result"
    }
   ],
   "source": [
    "arr1 = arr[:-1].reshape(3,3)\n",
    "arr1"
   ]
  },
  {
   "cell_type": "markdown",
   "id": "fcdaeff2",
   "metadata": {},
   "source": [
    "Now, multiply this with the identity matrix created above!"
   ]
  },
  {
   "cell_type": "code",
   "execution_count": 37,
   "id": "9a0776df",
   "metadata": {},
   "outputs": [
    {
     "data": {
      "text/plain": [
       "array([[ 1.,  0.,  0.],\n",
       "       [ 0.,  9.,  0.],\n",
       "       [ 0.,  0., 17.]])"
      ]
     },
     "execution_count": 37,
     "metadata": {},
     "output_type": "execute_result"
    }
   ],
   "source": [
    "arr[:-1].reshape(3,3)*np.eye(3)\n",
    "#OR\n",
    "#aar1.reshape(3,3)"
   ]
  },
  {
   "attachments": {
    "image.png": {
     "image/png": "[encoded data removed]"
    }
   },
   "cell_type": "markdown",
   "id": "a75ce066",
   "metadata": {},
   "source": [
    "\n",
    "<div>\n",
    "<img src=\"attachment:image.png\" width=\"50\" align=\"Left\"/>\n",
    "Question: Is this a cross product of two matrices or this is simply multiplication of item with item?\n",
    "</div>"
   ]
  },
  {
   "cell_type": "markdown",
   "id": "af6dc216",
   "metadata": {},
   "source": [
    "### 1.3 - Multiplying\n",
    "Create an array of [0,0,0,1,1,1,2,2,2] and reshape it to a 3x3 matrix. Call this \"arr2\"."
   ]
  },
  {
   "cell_type": "code",
   "execution_count": 38,
   "id": "790c9b59",
   "metadata": {},
   "outputs": [
    {
     "data": {
      "text/plain": [
       "array([[0, 0, 0],\n",
       "       [1, 1, 1],\n",
       "       [2, 2, 2]])"
      ]
     },
     "execution_count": 38,
     "metadata": {},
     "output_type": "execute_result"
    }
   ],
   "source": [
    "arr2=np.array([0,0,0,1,1,1,2,2,2]).reshape(3,3)\n",
    "arr2\n",
    "#OR\n",
    "\n",
    "# np.append(np.zeros(3), np.append(np.ones(3), np.ones(3)*2,0), 0).reshape(3,3)"
   ]
  },
  {
   "cell_type": "markdown",
   "id": "74449145",
   "metadata": {},
   "source": [
    "Multiply arr1 and arr2 in section 1.2!"
   ]
  },
  {
   "cell_type": "code",
   "execution_count": 39,
   "id": "a9a644a6",
   "metadata": {},
   "outputs": [
    {
     "data": {
      "text/plain": [
       "array([[ 0,  0,  0],\n",
       "       [ 7,  9, 11],\n",
       "       [26, 30, 34]])"
      ]
     },
     "execution_count": 39,
     "metadata": {},
     "output_type": "execute_result"
    }
   ],
   "source": [
    "arr1*arr2"
   ]
  },
  {
   "attachments": {
    "image.png": {
     "image/png": "[encoded data removed]"
    }
   },
   "cell_type": "markdown",
   "id": "151632fc",
   "metadata": {},
   "source": [
    "\n",
    "<div>\n",
    "<img src=\"attachment:image.png\" width=\"50\" align=\"Left\"/>\n",
    "Question: Is this a cross product of two matrices or this is simply multiplication of item with item?\n",
    "</div>"
   ]
  },
  {
   "cell_type": "markdown",
   "id": "0f4c63e1",
   "metadata": {},
   "source": [
    "Do it yourself. Explore the differences between \n",
    "- np.cross(arr1,arr2)\n",
    "- np.inner(arr1,arr2)\n",
    "- np.outer(arr1,arr2)\n",
    "- np.dot(arr1,arr2)"
   ]
  },
  {
   "cell_type": "code",
   "execution_count": 41,
   "id": "9baac3cd",
   "metadata": {
    "scrolled": false
   },
   "outputs": [
    {
     "name": "stdout",
     "output_type": "stream",
     "text": [
      "[[ 1  3  5]\n",
      " [ 7  9 11]\n",
      " [13 15 17]] [[0 0 0]\n",
      " [1 1 1]\n",
      " [2 2 2]]\n",
      "[[ 0  0  0]\n",
      " [-2  4 -2]\n",
      " [-4  8 -4]]\n",
      "[[ 0  9 18]\n",
      " [ 0 27 54]\n",
      " [ 0 45 90]]\n",
      "[[ 0  0  0  1  1  1  2  2  2]\n",
      " [ 0  0  0  3  3  3  6  6  6]\n",
      " [ 0  0  0  5  5  5 10 10 10]\n",
      " [ 0  0  0  7  7  7 14 14 14]\n",
      " [ 0  0  0  9  9  9 18 18 18]\n",
      " [ 0  0  0 11 11 11 22 22 22]\n",
      " [ 0  0  0 13 13 13 26 26 26]\n",
      " [ 0  0  0 15 15 15 30 30 30]\n",
      " [ 0  0  0 17 17 17 34 34 34]]\n",
      "[[13 13 13]\n",
      " [31 31 31]\n",
      " [49 49 49]]\n"
     ]
    }
   ],
   "source": [
    "print(arr1, arr2)\n",
    "print(np.cross(arr1,arr2))\n",
    "print(np.inner(arr1,arr2))\n",
    "print(np.outer(arr1,arr2))\n",
    "print(np.dot(arr1,arr2))\n"
   ]
  },
  {
   "cell_type": "markdown",
   "id": "3347c466",
   "metadata": {},
   "source": [
    "# Act 2 - randn vs rand\n",
    "### 2.1 - Create an array of  1000 random numbers use rand and call it arr1"
   ]
  },
  {
   "cell_type": "code",
   "execution_count": 42,
   "id": "3154a851",
   "metadata": {},
   "outputs": [],
   "source": [
    "arr1 = np.random.rand(1000)"
   ]
  },
  {
   "cell_type": "markdown",
   "id": "1dcde28e",
   "metadata": {},
   "source": [
    "Now use randn to do so! Call it arr2."
   ]
  },
  {
   "cell_type": "code",
   "execution_count": 43,
   "id": "6913a4b3",
   "metadata": {},
   "outputs": [],
   "source": [
    "arr2 = np.random.randn(1000)"
   ]
  },
  {
   "cell_type": "markdown",
   "id": "642ccab1",
   "metadata": {},
   "source": [
    "Now, I am going to create a histogram of the two arrays you created. Check below! Does the differences among them make sense?"
   ]
  },
  {
   "cell_type": "code",
   "execution_count": 45,
   "id": "7172e4e9",
   "metadata": {},
   "outputs": [
    {
     "data": {
      "text/plain": [
       "(array([119., 105.,  96.,  97.,  98., 101.,  94.,  98.,  89., 103.]),\n",
       " array([8.86533631e-04, 1.00700096e-01, 2.00513659e-01, 3.00327222e-01,\n",
       "        4.00140784e-01, 4.99954347e-01, 5.99767910e-01, 6.99581472e-01,\n",
       "        7.99395035e-01, 8.99208598e-01, 9.99022160e-01]),\n",
       " <BarContainer object of 10 artists>)"
      ]
     },
     "execution_count": 45,
     "metadata": {},
     "output_type": "execute_result"
    },
    {
     "data": {
      "image/png": "[encoded data removed]",
      "text/plain": [
       "<Figure size 640x480 with 1 Axes>"
      ]
     },
     "metadata": {},
     "output_type": "display_data"
    }
   ],
   "source": [
    "# Leave as it is\n",
    "import matplotlib.pyplot as plt\n",
    "plt.hist(arr1)"
   ]
  },
  {
   "cell_type": "code",
   "execution_count": 46,
   "id": "7a1cb668",
   "metadata": {},
   "outputs": [
    {
     "data": {
      "text/plain": [
       "(array([  1.,  10.,  43., 106., 198., 235., 209., 123.,  58.,  17.]),\n",
       " array([-3.55029449, -2.92520232, -2.30011016, -1.67501799, -1.04992582,\n",
       "        -0.42483366,  0.20025851,  0.82535068,  1.45044284,  2.07553501,\n",
       "         2.70062718]),\n",
       " <BarContainer object of 10 artists>)"
      ]
     },
     "execution_count": 46,
     "metadata": {},
     "output_type": "execute_result"
    },
    {
     "data": {
      "image/png": "[encoded data removed]",
      "text/plain": [
       "<Figure size 640x480 with 1 Axes>"
      ]
     },
     "metadata": {},
     "output_type": "display_data"
    }
   ],
   "source": [
    "# Leave as it is\n",
    "plt.hist(arr2)"
   ]
  },
  {
   "cell_type": "markdown",
   "id": "89c43198",
   "metadata": {},
   "source": [
    "#### 2.2 - randint\n",
    "Create an array of 10 random integer between 20 - 400"
   ]
  },
  {
   "cell_type": "code",
   "execution_count": 47,
   "id": "e2b7498d",
   "metadata": {},
   "outputs": [
    {
     "data": {
      "text/plain": [
       "array([ 35, 311, 125,  70, 319, 315, 199,  65, 189,  49])"
      ]
     },
     "execution_count": 47,
     "metadata": {},
     "output_type": "execute_result"
    }
   ],
   "source": [
    "np.random.randint(20,400,10)"
   ]
  },
  {
   "cell_type": "markdown",
   "id": "12275e73",
   "metadata": {},
   "source": [
    "#### 2.3 - linear spacing"
   ]
  },
  {
   "cell_type": "markdown",
   "id": "13178a8b",
   "metadata": {},
   "source": [
    "Create an array of 10 linearly spaced values between 1 to 100"
   ]
  },
  {
   "cell_type": "code",
   "execution_count": 48,
   "id": "8aebe9a0",
   "metadata": {},
   "outputs": [
    {
     "data": {
      "text/plain": [
       "array([  1.,  12.,  23.,  34.,  45.,  56.,  67.,  78.,  89., 100.])"
      ]
     },
     "execution_count": 48,
     "metadata": {},
     "output_type": "execute_result"
    }
   ],
   "source": [
    "np.linspace(1,100,10)"
   ]
  },
  {
   "cell_type": "markdown",
   "id": "521a4579",
   "metadata": {},
   "source": [
    "# Act 3\n",
    "### 3.1 - Indexing and Selection"
   ]
  },
  {
   "cell_type": "markdown",
   "id": "8d65e122",
   "metadata": {},
   "source": [
    "Create the following matrix and call it 'arr'"
   ]
  },
  {
   "cell_type": "code",
   "execution_count": 49,
   "id": "57cf3795",
   "metadata": {},
   "outputs": [
    {
     "data": {
      "text/plain": [
       "array([[ 2,  3,  4,  5,  6,  7],\n",
       "       [ 8,  9, 10, 11, 12, 13],\n",
       "       [14, 15, 16, 17, 18, 19],\n",
       "       [20, 21, 22, 23, 24, 25]])"
      ]
     },
     "execution_count": 49,
     "metadata": {},
     "output_type": "execute_result"
    }
   ],
   "source": [
    "arr = np.arange(2,26).reshape(4,6)\n",
    "arr"
   ]
  },
  {
   "cell_type": "code",
   "execution_count": 54,
   "id": "2397e31f",
   "metadata": {},
   "outputs": [
    {
     "data": {
      "text/plain": [
       "array([[15, 16, 17, 18, 19],\n",
       "       [21, 22, 23, 24, 25]])"
      ]
     },
     "execution_count": 54,
     "metadata": {},
     "output_type": "execute_result"
    }
   ],
   "source": [
    "#Leave as it is\n",
    "DO NOT RUN THIS LINE"
   ]
  },
  {
   "cell_type": "markdown",
   "id": "d192a4de",
   "metadata": {},
   "source": [
    "Create the selection above from 'arr' in the cell below"
   ]
  },
  {
   "cell_type": "code",
   "execution_count": 53,
   "id": "3c028cce",
   "metadata": {},
   "outputs": [
    {
     "data": {
      "text/plain": [
       "array([[15, 16, 17, 18, 19],\n",
       "       [21, 22, 23, 24, 25]])"
      ]
     },
     "execution_count": 53,
     "metadata": {},
     "output_type": "execute_result"
    }
   ],
   "source": [
    "arr[2:,1:]"
   ]
  },
  {
   "cell_type": "code",
   "execution_count": 55,
   "id": "82842b64",
   "metadata": {},
   "outputs": [
    {
     "data": {
      "text/plain": [
       "array([[10, 11],\n",
       "       [16, 17]])"
      ]
     },
     "execution_count": 55,
     "metadata": {},
     "output_type": "execute_result"
    }
   ],
   "source": [
    "#Leave as it is\n",
    "DO NOT RUN THIS LINE"
   ]
  },
  {
   "cell_type": "markdown",
   "id": "d102f586",
   "metadata": {},
   "source": [
    "Create the selection above from 'arr' in the cell below"
   ]
  },
  {
   "cell_type": "code",
   "execution_count": 62,
   "id": "6802f61c",
   "metadata": {},
   "outputs": [
    {
     "data": {
      "text/plain": [
       "array([[10, 11],\n",
       "       [16, 17]])"
      ]
     },
     "execution_count": 62,
     "metadata": {},
     "output_type": "execute_result"
    }
   ],
   "source": [
    "arr[1:3,2:4]"
   ]
  },
  {
   "cell_type": "markdown",
   "id": "764d5d80",
   "metadata": {},
   "source": [
    "Call item in the second row and third column from 'arr'"
   ]
  },
  {
   "cell_type": "code",
   "execution_count": 63,
   "id": "53b9600a",
   "metadata": {},
   "outputs": [
    {
     "data": {
      "text/plain": [
       "10"
      ]
     },
     "execution_count": 63,
     "metadata": {},
     "output_type": "execute_result"
    }
   ],
   "source": [
    "arr[1,2]"
   ]
  },
  {
   "cell_type": "markdown",
   "id": "6ce7a8d1",
   "metadata": {},
   "source": [
    "# Act 4 - Some useful built-in functions"
   ]
  },
  {
   "cell_type": "markdown",
   "id": "fdfaf3ae",
   "metadata": {},
   "source": [
    "What is the maximum and min value in 'arr'?"
   ]
  },
  {
   "cell_type": "code",
   "execution_count": 64,
   "id": "e8500b39",
   "metadata": {},
   "outputs": [
    {
     "data": {
      "text/plain": [
       "25"
      ]
     },
     "execution_count": 64,
     "metadata": {},
     "output_type": "execute_result"
    }
   ],
   "source": [
    "arr.max()\n",
    "np.max(arr)"
   ]
  },
  {
   "cell_type": "code",
   "execution_count": 65,
   "id": "6d042c3d",
   "metadata": {},
   "outputs": [
    {
     "data": {
      "text/plain": [
       "2"
      ]
     },
     "execution_count": 65,
     "metadata": {},
     "output_type": "execute_result"
    }
   ],
   "source": [
    "arr.min()\n",
    "np.min(arr)"
   ]
  },
  {
   "cell_type": "markdown",
   "id": "04fd17a4",
   "metadata": {},
   "source": [
    "What is the index of the maximum and minimum value in 'arr'?"
   ]
  },
  {
   "cell_type": "code",
   "execution_count": 66,
   "id": "1099c31a",
   "metadata": {},
   "outputs": [
    {
     "data": {
      "text/plain": [
       "23"
      ]
     },
     "execution_count": 66,
     "metadata": {},
     "output_type": "execute_result"
    }
   ],
   "source": [
    "np.argmax(arr)"
   ]
  },
  {
   "cell_type": "code",
   "execution_count": 67,
   "id": "329aade3",
   "metadata": {},
   "outputs": [
    {
     "data": {
      "text/plain": [
       "0"
      ]
     },
     "execution_count": 67,
     "metadata": {},
     "output_type": "execute_result"
    }
   ],
   "source": [
    "np.argmin(arr)"
   ]
  },
  {
   "cell_type": "markdown",
   "id": "dfa07f9d",
   "metadata": {},
   "source": [
    "What is the summation of all the ellements of arr"
   ]
  },
  {
   "cell_type": "code",
   "execution_count": 68,
   "id": "756d0b19",
   "metadata": {},
   "outputs": [
    {
     "data": {
      "text/plain": [
       "324"
      ]
     },
     "execution_count": 68,
     "metadata": {},
     "output_type": "execute_result"
    }
   ],
   "source": [
    "arr.sum()"
   ]
  },
  {
   "cell_type": "markdown",
   "id": "ef84d9ef",
   "metadata": {},
   "source": [
    "What is the summation of the ellements in each column?"
   ]
  },
  {
   "cell_type": "code",
   "execution_count": 69,
   "id": "8ebf8b18",
   "metadata": {},
   "outputs": [
    {
     "data": {
      "text/plain": [
       "array([44, 48, 52, 56, 60, 64])"
      ]
     },
     "execution_count": 69,
     "metadata": {},
     "output_type": "execute_result"
    }
   ],
   "source": [
    "arr.sum(axis=0)"
   ]
  },
  {
   "cell_type": "markdown",
   "id": "46430123",
   "metadata": {},
   "source": [
    "What is the summation of the ellements in each row?"
   ]
  },
  {
   "cell_type": "code",
   "execution_count": 70,
   "id": "9f888cdf",
   "metadata": {},
   "outputs": [
    {
     "data": {
      "text/plain": [
       "array([ 27,  63,  99, 135])"
      ]
     },
     "execution_count": 70,
     "metadata": {},
     "output_type": "execute_result"
    }
   ],
   "source": [
    "arr.sum(axis=1)"
   ]
  },
  {
   "cell_type": "markdown",
   "id": "03b98147",
   "metadata": {},
   "source": [
    "What is the standard deviation of all the values in 'arr'?"
   ]
  },
  {
   "cell_type": "code",
   "execution_count": 71,
   "id": "cd431c02",
   "metadata": {},
   "outputs": [
    {
     "data": {
      "text/plain": [
       "6.922186552431729"
      ]
     },
     "execution_count": 71,
     "metadata": {},
     "output_type": "execute_result"
    }
   ],
   "source": [
    "arr.std()"
   ]
  },
  {
   "attachments": {
    "image.png": {
     "image/png": "[encoded data removed]"
    }
   },
   "cell_type": "markdown",
   "id": "16eb6730",
   "metadata": {},
   "source": [
    "![image.png](attachment:image.png)"
   ]
  }
 ],
 "metadata": {
  "kernelspec": {
   "display_name": "Python 3 (ipykernel)",
   "language": "python",
   "name": "python3"
  },
  "language_info": {
   "codemirror_mode": {
    "name": "ipython",
    "version": 3
   },
   "file_extension": ".py",
   "mimetype": "text/x-python",
   "name": "python",
   "nbconvert_exporter": "python",
   "pygments_lexer": "ipython3",
   "version": "3.9.13"
  }
 },
 "nbformat": 4,
 "nbformat_minor": 5
}
