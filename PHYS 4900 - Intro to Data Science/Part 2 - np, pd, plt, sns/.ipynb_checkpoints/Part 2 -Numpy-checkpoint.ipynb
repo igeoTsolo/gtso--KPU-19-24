{
 "cells": [
  {
   "cell_type": "markdown",
   "id": "4db4e716",
   "metadata": {},
   "source": [
    "# $\\LARGE Numpy$\n",
    "\n",
    "# Act 1 - Start with Numpy\n",
    "#### Import numpy below and call it np"
   ]
  },
  {
   "cell_type": "code",
   "execution_count": 1,
   "id": "65573f01",
   "metadata": {},
   "outputs": [],
   "source": [
    "import numpy as np"
   ]
  },
  {
   "cell_type": "markdown",
   "id": "afd822f2",
   "metadata": {},
   "source": [
    "### 1.1 - Perform the following tasks\n",
    "Covert the list below to a numpy array and call it 'arr'"
   ]
  },
  {
   "cell_type": "code",
   "execution_count": 2,
   "id": "47461b35",
   "metadata": {},
   "outputs": [],
   "source": [
    "#Leave as it is\n",
    "lst = [1,2,3, 'myself']"
   ]
  },
  {
   "cell_type": "code",
   "execution_count": 3,
   "id": "549a60e7",
   "metadata": {},
   "outputs": [
    {
     "data": {
      "text/plain": [
       "array(['1', '2', '3', 'myself'], dtype='<U11')"
      ]
     },
     "execution_count": 3,
     "metadata": {},
     "output_type": "execute_result"
    }
   ],
   "source": [
    "arr = np.array(lst)\n",
    "arr"
   ]
  },
  {
   "cell_type": "markdown",
   "id": "a57b032c",
   "metadata": {},
   "source": [
    "Create an array of numbers from 2 to 20 with the steps of 3"
   ]
  },
  {
   "cell_type": "code",
   "execution_count": 5,
   "id": "e9112713",
   "metadata": {},
   "outputs": [
    {
     "data": {
      "text/plain": [
       "array([ 2,  5,  8, 11, 14, 17])"
      ]
     },
     "execution_count": 5,
     "metadata": {},
     "output_type": "execute_result"
    }
   ],
   "source": [
    "np.arange(2,20, 3)"
   ]
  },
  {
   "cell_type": "markdown",
   "id": "3bc1d5ea",
   "metadata": {},
   "source": [
    "Create an array of 10 zeros"
   ]
  },
  {
   "cell_type": "code",
   "execution_count": 6,
   "id": "f607ccc0",
   "metadata": {},
   "outputs": [
    {
     "data": {
      "text/plain": [
       "array([0., 0., 0., 0., 0., 0., 0., 0., 0., 0.])"
      ]
     },
     "execution_count": 6,
     "metadata": {},
     "output_type": "execute_result"
    }
   ],
   "source": [
    "np.zeros(10)"
   ]
  },
  {
   "cell_type": "markdown",
   "id": "ed8c3913",
   "metadata": {},
   "source": [
    "Create an array of 10 ones"
   ]
  },
  {
   "cell_type": "code",
   "execution_count": 7,
   "id": "8cca420f",
   "metadata": {},
   "outputs": [
    {
     "data": {
      "text/plain": [
       "array([1., 1., 1., 1., 1., 1., 1., 1., 1., 1.])"
      ]
     },
     "execution_count": 7,
     "metadata": {},
     "output_type": "execute_result"
    }
   ],
   "source": [
    "np.ones(10)"
   ]
  },
  {
   "cell_type": "markdown",
   "id": "c8a2527a",
   "metadata": {},
   "source": [
    "Create an array of 10 eights"
   ]
  },
  {
   "cell_type": "code",
   "execution_count": 8,
   "id": "6c12c281",
   "metadata": {},
   "outputs": [
    {
     "data": {
      "text/plain": [
       "array([8., 8., 8., 8., 8., 8., 8., 8., 8., 8.])"
      ]
     },
     "execution_count": 8,
     "metadata": {},
     "output_type": "execute_result"
    }
   ],
   "source": [
    "np.ones(10)*8"
   ]
  },
  {
   "cell_type": "markdown",
   "id": "4060aa95",
   "metadata": {},
   "source": [
    "### 1.2 - 2D Arrays\n",
    "Create a one dimensional array of all the odd numbers from 1 to 20 and call it 'arr'"
   ]
  },
  {
   "cell_type": "code",
   "execution_count": 9,
   "id": "3e5cff0d",
   "metadata": {},
   "outputs": [
    {
     "data": {
      "text/plain": [
       "array([ 1,  3,  5,  7,  9, 11, 13, 15, 17, 19])"
      ]
     },
     "execution_count": 9,
     "metadata": {},
     "output_type": "execute_result"
    }
   ],
   "source": [
    "arr = np.arange(1,20,2)\n",
    "arr"
   ]
  },
  {
   "cell_type": "markdown",
   "id": "a98cbd6b",
   "metadata": {},
   "source": [
    "Convert this (i.e. arr) to a 2x5 matrix (i.e. 2 rows, 5 columns)"
   ]
  },
  {
   "cell_type": "code",
   "execution_count": 10,
   "id": "71325c6b",
   "metadata": {},
   "outputs": [
    {
     "data": {
      "text/plain": [
       "array([[ 1,  3,  5,  7,  9],\n",
       "       [11, 13, 15, 17, 19]])"
      ]
     },
     "execution_count": 10,
     "metadata": {},
     "output_type": "execute_result"
    }
   ],
   "source": [
    "arr.reshape(2,5)"
   ]
  },
  {
   "cell_type": "markdown",
   "id": "8a5bc94a",
   "metadata": {},
   "source": [
    "Create a 3x3 identity matrix"
   ]
  },
  {
   "cell_type": "code",
   "execution_count": 16,
   "id": "a9202636",
   "metadata": {},
   "outputs": [
    {
     "data": {
      "text/plain": [
       "array([[1., 0., 0.],\n",
       "       [0., 1., 0.],\n",
       "       [0., 0., 1.]])"
      ]
     },
     "execution_count": 16,
     "metadata": {},
     "output_type": "execute_result"
    }
   ],
   "source": [
    "np.eye(3)"
   ]
  },
  {
   "cell_type": "markdown",
   "id": "5bba030e",
   "metadata": {},
   "source": [
    "Grab all the items from arr except the last one"
   ]
  },
  {
   "cell_type": "code",
   "execution_count": 14,
   "id": "d53aee92",
   "metadata": {},
   "outputs": [
    {
     "data": {
      "text/plain": [
       "array([ 1,  3,  5,  7,  9, 11, 13, 15, 17])"
      ]
     },
     "execution_count": 14,
     "metadata": {},
     "output_type": "execute_result"
    }
   ],
   "source": [
    "arr[:-1]"
   ]
  },
  {
   "cell_type": "markdown",
   "id": "fbf8a938",
   "metadata": {},
   "source": [
    "Now creshape this into a 3x3 array and call it 'arr1'"
   ]
  },
  {
   "cell_type": "code",
   "execution_count": 29,
   "id": "f9c83f31",
   "metadata": {},
   "outputs": [
    {
     "data": {
      "text/plain": [
       "array([[ 1,  3,  5],\n",
       "       [ 7,  9, 11],\n",
       "       [13, 15, 17]])"
      ]
     },
     "execution_count": 29,
     "metadata": {},
     "output_type": "execute_result"
    }
   ],
   "source": [
    "arr1 = arr[:-1].reshape(3,3)\n",
    "arr1"
   ]
  },
  {
   "cell_type": "markdown",
   "id": "fcdaeff2",
   "metadata": {},
   "source": [
    "Now, multiply this with the identity matrix created above!"
   ]
  },
  {
   "cell_type": "code",
   "execution_count": 30,
   "id": "9a0776df",
   "metadata": {},
   "outputs": [
    {
     "data": {
      "text/plain": [
       "array([[ 1.,  0.,  0.],\n",
       "       [ 0.,  9.,  0.],\n",
       "       [ 0.,  0., 17.]])"
      ]
     },
     "execution_count": 30,
     "metadata": {},
     "output_type": "execute_result"
    }
   ],
   "source": [
    "arr[:-1].reshape(3,3)*np.eye(3)\n",
    "#OR\n",
    "#aar1.reshape(3,3)"
   ]
  },
  {
   "attachments": {
    "image.png": {
     "image/png": "[encoded data removed]"
    }
   },
   "cell_type": "markdown",
   "id": "a75ce066",
   "metadata": {},
   "source": [
    "\n",
    "<div>\n",
    "<img src=\"attachment:image.png\" width=\"50\" align=\"Left\"/>\n",
    "Question: Is this a cross product of two matrices or this is simply multiplication of item with item?\n",
    "</div>"
   ]
  },
  {
   "cell_type": "markdown",
   "id": "af6dc216",
   "metadata": {},
   "source": [
    "### 1.3 - Multiplying\n",
    "Create an array of [0,0,0,1,1,1,2,2,2] and reshape it to a 3x3 matrix. Call this \"arr2\"."
   ]
  },
  {
   "cell_type": "code",
   "execution_count": 33,
   "id": "790c9b59",
   "metadata": {},
   "outputs": [
    {
     "data": {
      "text/plain": [
       "array([[0, 0, 0],\n",
       "       [1, 1, 1],\n",
       "       [2, 2, 2]])"
      ]
     },
     "execution_count": 33,
     "metadata": {},
     "output_type": "execute_result"
    }
   ],
   "source": [
    "arr2=np.array([0,0,0,1,1,1,2,2,2]).reshape(3,3)\n",
    "arr2\n",
    "#OR\n",
    "\n",
    "# np.append(np.zeros(3), np.append(np.ones(3), np.ones(3)*2,0), 0).reshape(3,3)"
   ]
  },
  {
   "cell_type": "markdown",
   "id": "74449145",
   "metadata": {},
   "source": [
    "Multiply arr1 and arr2 in section 1.2!"
   ]
  },
  {
   "cell_type": "code",
   "execution_count": 34,
   "id": "a9a644a6",
   "metadata": {},
   "outputs": [
    {
     "data": {
      "text/plain": [
       "array([[ 0,  0,  0],\n",
       "       [ 7,  9, 11],\n",
       "       [26, 30, 34]])"
      ]
     },
     "execution_count": 34,
     "metadata": {},
     "output_type": "execute_result"
    }
   ],
   "source": [
    "arr1*arr2"
   ]
  },
  {
   "attachments": {
    "image.png": {
     "image/png": "[encoded data removed]"
    }
   },
   "cell_type": "markdown",
   "id": "151632fc",
   "metadata": {},
   "source": [
    "\n",
    "<div>\n",
    "<img src=\"attachment:image.png\" width=\"50\" align=\"Left\"/>\n",
    "Question: Is this a cross product of two matrices or this is simply multiplication of item with item?\n",
    "</div>"
   ]
  },
  {
   "cell_type": "markdown",
   "id": "0f4c63e1",
   "metadata": {},
   "source": [
    "Do it yourself. Explore the differences between \n",
    "- np.cross(arr1,arr2)\n",
    "- np.inner(arr1,arr2)\n",
    "- np.outer(arr1,arr2)\n",
    "- np.dot(arr1,arr2)"
   ]
  },
  {
   "cell_type": "markdown",
   "id": "3347c466",
   "metadata": {},
   "source": [
    "# Act 2 - randn vs rand\n",
    "### 2.1 - Create an array of  1000 random numbers use rand and call it arr1"
   ]
  },
  {
   "cell_type": "code",
   "execution_count": 65,
   "id": "3154a851",
   "metadata": {},
   "outputs": [],
   "source": [
    "arr1 = np.random.rand(1000)"
   ]
  },
  {
   "cell_type": "markdown",
   "id": "1dcde28e",
   "metadata": {},
   "source": [
    "Now use randn to do so! Call it arr2."
   ]
  },
  {
   "cell_type": "code",
   "execution_count": 66,
   "id": "6913a4b3",
   "metadata": {},
   "outputs": [],
   "source": [
    "arr2 = np.random.randn(1000)"
   ]
  },
  {
   "cell_type": "markdown",
   "id": "642ccab1",
   "metadata": {},
   "source": [
    "Now, I am going to create a histogram of the two arrays you created. Check below! Does the differences among them make sense?"
   ]
  },
  {
   "cell_type": "code",
   "execution_count": 72,
   "id": "7172e4e9",
   "metadata": {},
   "outputs": [
    {
     "data": {
      "text/plain": [
       "(array([111., 103.,  94., 103.,  95., 112.,  93., 100.,  99.,  90.]),\n",
       " array([1.03862497e-04, 1.00056909e-01, 2.00009956e-01, 2.99963003e-01,\n",
       "        3.99916050e-01, 4.99869097e-01, 5.99822144e-01, 6.99775191e-01,\n",
       "        7.99728238e-01, 8.99681285e-01, 9.99634332e-01]),\n",
       " <BarContainer object of 10 artists>)"
      ]
     },
     "execution_count": 72,
     "metadata": {},
     "output_type": "execute_result"
    },
    {
     "data": {
      "image/png": "[encoded data removed]",
      "text/plain": [
       "<Figure size 432x288 with 1 Axes>"
      ]
     },
     "metadata": {
      "needs_background": "light"
     },
     "output_type": "display_data"
    }
   ],
   "source": [
    "# Leave as it is\n",
    "import matplotlib.pyplot as plt\n",
    "plt.hist(arr1)"
   ]
  },
  {
   "cell_type": "code",
   "execution_count": 73,
   "id": "7a1cb668",
   "metadata": {},
   "outputs": [
    {
     "data": {
      "text/plain": [
       "(array([  1.,   9.,  26.,  90., 210., 274., 210., 107.,  56.,  17.]),\n",
       " array([-3.71976494, -3.06666969, -2.41357445, -1.7604792 , -1.10738396,\n",
       "        -0.45428872,  0.19880653,  0.85190177,  1.50499702,  2.15809226,\n",
       "         2.8111875 ]),\n",
       " <BarContainer object of 10 artists>)"
      ]
     },
     "execution_count": 73,
     "metadata": {},
     "output_type": "execute_result"
    },
    {
     "data": {
      "image/png": "[encoded data removed]",
      "text/plain": [
       "<Figure size 432x288 with 1 Axes>"
      ]
     },
     "metadata": {
      "needs_background": "light"
     },
     "output_type": "display_data"
    }
   ],
   "source": [
    "# Leave as it is\n",
    "plt.hist(arr2)"
   ]
  },
  {
   "cell_type": "markdown",
   "id": "89c43198",
   "metadata": {},
   "source": [
    "#### 2.2 - randint\n",
    "Create an array of 10 random integer between 20 - 400"
   ]
  },
  {
   "cell_type": "code",
   "execution_count": 75,
   "id": "e2b7498d",
   "metadata": {},
   "outputs": [
    {
     "data": {
      "text/plain": [
       "array([170, 224,  27, 339, 190, 175, 181, 176, 131, 136])"
      ]
     },
     "execution_count": 75,
     "metadata": {},
     "output_type": "execute_result"
    }
   ],
   "source": [
    "np.random.randint(20,400,10)"
   ]
  },
  {
   "cell_type": "markdown",
   "id": "12275e73",
   "metadata": {},
   "source": [
    "#### 2.3 - linear spacing"
   ]
  },
  {
   "cell_type": "markdown",
   "id": "13178a8b",
   "metadata": {},
   "source": [
    "Create an array of 10 linearly spaced values between 1 to 100"
   ]
  },
  {
   "cell_type": "code",
   "execution_count": 76,
   "id": "8aebe9a0",
   "metadata": {},
   "outputs": [
    {
     "data": {
      "text/plain": [
       "array([  1.,  12.,  23.,  34.,  45.,  56.,  67.,  78.,  89., 100.])"
      ]
     },
     "execution_count": 76,
     "metadata": {},
     "output_type": "execute_result"
    }
   ],
   "source": [
    "np.linspace(1,100,10)"
   ]
  },
  {
   "cell_type": "markdown",
   "id": "521a4579",
   "metadata": {},
   "source": [
    "# Act 3\n",
    "### 3.1 - Indexing and Selection"
   ]
  },
  {
   "cell_type": "markdown",
   "id": "8d65e122",
   "metadata": {},
   "source": [
    "Create the following matrix and call it 'arr'"
   ]
  },
  {
   "cell_type": "code",
   "execution_count": 79,
   "id": "57cf3795",
   "metadata": {},
   "outputs": [
    {
     "data": {
      "text/plain": [
       "array([[ 2,  3,  4,  5,  6,  7],\n",
       "       [ 8,  9, 10, 11, 12, 13],\n",
       "       [14, 15, 16, 17, 18, 19],\n",
       "       [20, 21, 22, 23, 24, 25]])"
      ]
     },
     "execution_count": 79,
     "metadata": {},
     "output_type": "execute_result"
    }
   ],
   "source": [
    "arr = np.arange(2,26).reshape(4,6)\n",
    "arr"
   ]
  },
  {
   "cell_type": "code",
   "execution_count": 81,
   "id": "2397e31f",
   "metadata": {},
   "outputs": [
    {
     "data": {
      "text/plain": [
       "array([[15, 16, 17, 18, 19],\n",
       "       [21, 22, 23, 24, 25]])"
      ]
     },
     "execution_count": 81,
     "metadata": {},
     "output_type": "execute_result"
    }
   ],
   "source": [
    "#Leave as it is\n",
    "DO NOT RUN THIS LINE"
   ]
  },
  {
   "cell_type": "markdown",
   "id": "d192a4de",
   "metadata": {},
   "source": [
    "Create the selection above from 'arr' in the cell below"
   ]
  },
  {
   "cell_type": "code",
   "execution_count": null,
   "id": "3c028cce",
   "metadata": {},
   "outputs": [],
   "source": []
  },
  {
   "cell_type": "code",
   "execution_count": 83,
   "id": "82842b64",
   "metadata": {},
   "outputs": [
    {
     "data": {
      "text/plain": [
       "array([[10, 11],\n",
       "       [16, 17]])"
      ]
     },
     "execution_count": 83,
     "metadata": {},
     "output_type": "execute_result"
    }
   ],
   "source": [
    "#Leave as it is\n",
    "DO NOT RUN THIS LINE"
   ]
  },
  {
   "cell_type": "markdown",
   "id": "d102f586",
   "metadata": {},
   "source": [
    "Create the selection above from 'arr' in the cell below"
   ]
  },
  {
   "cell_type": "code",
   "execution_count": null,
   "id": "6802f61c",
   "metadata": {},
   "outputs": [],
   "source": []
  },
  {
   "cell_type": "markdown",
   "id": "764d5d80",
   "metadata": {},
   "source": [
    "Call item in the second row and third column from 'arr'"
   ]
  },
  {
   "cell_type": "code",
   "execution_count": 84,
   "id": "53b9600a",
   "metadata": {},
   "outputs": [
    {
     "data": {
      "text/plain": [
       "10"
      ]
     },
     "execution_count": 84,
     "metadata": {},
     "output_type": "execute_result"
    }
   ],
   "source": [
    "arr[1,2]"
   ]
  },
  {
   "cell_type": "markdown",
   "id": "6ce7a8d1",
   "metadata": {},
   "source": [
    "# Act 4 - Some useful built-in functions"
   ]
  },
  {
   "cell_type": "markdown",
   "id": "fdfaf3ae",
   "metadata": {},
   "source": [
    "What is the maximum and min value in 'arr'?"
   ]
  },
  {
   "cell_type": "code",
   "execution_count": 102,
   "id": "e8500b39",
   "metadata": {},
   "outputs": [
    {
     "data": {
      "text/plain": [
       "25"
      ]
     },
     "execution_count": 102,
     "metadata": {},
     "output_type": "execute_result"
    }
   ],
   "source": [
    "arr.max()\n",
    "np.max(arr)"
   ]
  },
  {
   "cell_type": "code",
   "execution_count": 103,
   "id": "6d042c3d",
   "metadata": {},
   "outputs": [
    {
     "data": {
      "text/plain": [
       "2"
      ]
     },
     "execution_count": 103,
     "metadata": {},
     "output_type": "execute_result"
    }
   ],
   "source": [
    "arr.min()\n",
    "np.min(arr)"
   ]
  },
  {
   "cell_type": "markdown",
   "id": "04fd17a4",
   "metadata": {},
   "source": [
    "What is the index of the maximum and minimum value in 'arr'?"
   ]
  },
  {
   "cell_type": "code",
   "execution_count": 104,
   "id": "1099c31a",
   "metadata": {},
   "outputs": [
    {
     "data": {
      "text/plain": [
       "23"
      ]
     },
     "execution_count": 104,
     "metadata": {},
     "output_type": "execute_result"
    }
   ],
   "source": [
    "np.argmax(arr)"
   ]
  },
  {
   "cell_type": "code",
   "execution_count": 105,
   "id": "329aade3",
   "metadata": {},
   "outputs": [
    {
     "data": {
      "text/plain": [
       "0"
      ]
     },
     "execution_count": 105,
     "metadata": {},
     "output_type": "execute_result"
    }
   ],
   "source": [
    "np.argmin(arr)"
   ]
  },
  {
   "cell_type": "markdown",
   "id": "dfa07f9d",
   "metadata": {},
   "source": [
    "What is the summation of all the ellements of arr"
   ]
  },
  {
   "cell_type": "code",
   "execution_count": 101,
   "id": "756d0b19",
   "metadata": {},
   "outputs": [
    {
     "data": {
      "text/plain": [
       "324"
      ]
     },
     "execution_count": 101,
     "metadata": {},
     "output_type": "execute_result"
    }
   ],
   "source": [
    "arr.sum()"
   ]
  },
  {
   "cell_type": "markdown",
   "id": "ef84d9ef",
   "metadata": {},
   "source": [
    "What is the summation of the ellements in each column?"
   ]
  },
  {
   "cell_type": "code",
   "execution_count": 107,
   "id": "8ebf8b18",
   "metadata": {},
   "outputs": [
    {
     "data": {
      "text/plain": [
       "array([44, 48, 52, 56, 60, 64])"
      ]
     },
     "execution_count": 107,
     "metadata": {},
     "output_type": "execute_result"
    }
   ],
   "source": [
    "arr.sum(axis=0)"
   ]
  },
  {
   "cell_type": "markdown",
   "id": "46430123",
   "metadata": {},
   "source": [
    "What is the summation of the ellements in each row?"
   ]
  },
  {
   "cell_type": "code",
   "execution_count": 108,
   "id": "9f888cdf",
   "metadata": {},
   "outputs": [
    {
     "data": {
      "text/plain": [
       "array([ 27,  63,  99, 135])"
      ]
     },
     "execution_count": 108,
     "metadata": {},
     "output_type": "execute_result"
    }
   ],
   "source": [
    "arr.sum(axis=1)"
   ]
  },
  {
   "cell_type": "markdown",
   "id": "03b98147",
   "metadata": {},
   "source": [
    "What is the standard deviation of all the values in 'arr'?"
   ]
  },
  {
   "cell_type": "code",
   "execution_count": 109,
   "id": "cd431c02",
   "metadata": {},
   "outputs": [
    {
     "data": {
      "text/plain": [
       "6.922186552431729"
      ]
     },
     "execution_count": 109,
     "metadata": {},
     "output_type": "execute_result"
    }
   ],
   "source": [
    "arr.std()"
   ]
  },
  {
   "attachments": {
    "image.png": {
     "image/png": "[encoded data removed]"
    }
   },
   "cell_type": "markdown",
   "id": "16eb6730",
   "metadata": {},
   "source": [
    "![image.png](attachment:image.png)"
   ]
  }
 ],
 "metadata": {
  "kernelspec": {
   "display_name": "Python 3 (ipykernel)",
   "language": "python",
   "name": "python3"
  },
  "language_info": {
   "codemirror_mode": {
    "name": "ipython",
    "version": 3
   },
   "file_extension": ".py",
   "mimetype": "text/x-python",
   "name": "python",
   "nbconvert_exporter": "python",
   "pygments_lexer": "ipython3",
   "version": "3.9.13"
  }
 },
 "nbformat": 4,
 "nbformat_minor": 5
}
